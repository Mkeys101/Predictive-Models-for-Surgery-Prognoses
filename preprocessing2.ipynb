{
 "cells": [
  {
   "cell_type": "markdown",
   "metadata": {},
   "source": [
    "# Preprocessing 2 \n",
    "\n",
    "The tasks completed here are as follows: \n",
    "- Load full datasets\n",
    "- Remove revision tags where necessary \n",
    "- Remove specific health profiles\n",
    "- Form the datasets by model size and drop rows with NaNs (more features, less observations).\n",
    "- Remove rows where relevant features have value 9s (representing manually encoded missing data) \n",
    "- Save datasets"
   ]
  },
  {
   "cell_type": "code",
   "execution_count": 69,
   "metadata": {},
   "outputs": [],
   "source": [
    "import sklearn \n",
    "import pandas as pd \n",
    "import numpy as np"
   ]
  },
  {
   "cell_type": "code",
   "execution_count": 70,
   "metadata": {},
   "outputs": [],
   "source": [
    "pd.set_option('display.max_columns', None)\n",
    "pd.set_option('display.max_rows', 2000)"
   ]
  },
  {
   "cell_type": "code",
   "execution_count": 71,
   "metadata": {},
   "outputs": [],
   "source": [
    "from pickle import dump, load\n",
    "\n",
    "def save_pickle(path, obj): \n",
    "    with open(path, \"wb\") as fp:   #Pickling\n",
    "        dump(obj, fp)\n",
    "        \n",
    "def open_pickle(path): \n",
    "    with open(path, \"rb\") as fp:   # Unpickling\n",
    "        return load(fp)"
   ]
  },
  {
   "cell_type": "code",
   "execution_count": 72,
   "metadata": {},
   "outputs": [],
   "source": [
    "# path to cleaned data \n",
    "path = \"/Users/matthewkeys/Desktop/CRES/Data/SurgeryPrognostics/Cleaned/\""
   ]
  },
  {
   "cell_type": "code",
   "execution_count": 73,
   "metadata": {},
   "outputs": [],
   "source": [
    "FM_knee_data = open_pickle(path+\"final_knee_data.txt\")\n",
    "FM_hip_data = open_pickle(path+\"final_hip_data.txt\")\n",
    "FM_groin_data = open_pickle(path+\"final_groin_data.txt\")"
   ]
  },
  {
   "cell_type": "markdown",
   "metadata": {},
   "source": [
    "### Format Data \n",
    "In this section I create the various datasets that will be used in the below models. \n",
    "- First remove observations corresponding to revision surgeries. Prior to 2012 we have a problem."
   ]
  },
  {
   "cell_type": "code",
   "execution_count": 74,
   "metadata": {
    "scrolled": true
   },
   "outputs": [
    {
     "name": "stdout",
     "output_type": "stream",
     "text": [
      "0.0    309094\n",
      "1.0     13010\n",
      "Name: Revision Flag, dtype: int64\n",
      "83242\n",
      "(405346, 45)\n",
      "0.0    284141\n",
      "1.0     18281\n",
      "Name: Revision Flag, dtype: int64\n",
      "79654\n",
      "(382076, 45)\n",
      "0.0    145544\n",
      "Name: Revision Flag, dtype: int64\n",
      "45018\n",
      "(190562, 34)\n"
     ]
    }
   ],
   "source": [
    "# Get shapes & revision surgery counts \n",
    "for dataset in [FM_knee_data, FM_hip_data, FM_groin_data]:\n",
    "    print(dataset['Revision Flag'].value_counts())\n",
    "    print(dataset['Revision Flag'].isna().sum())\n",
    "    print(dataset.shape)"
   ]
  },
  {
   "cell_type": "code",
   "execution_count": 63,
   "metadata": {},
   "outputs": [],
   "source": [
    "# Reconstruct revision surgeries for prior to 2012 (need to do...)\n",
    "\n",
    "##################################################################\n"
   ]
  },
  {
   "cell_type": "code",
   "execution_count": 75,
   "metadata": {},
   "outputs": [],
   "source": [
    "# Temporary solution: Impute all 1's in the revision flag for 2010 and 2011\n",
    "FM_knee_data['Revision Flag'] = FM_knee_data.apply(\n",
    "    lambda row: 0 if ((np.isnan(row['Revision Flag'])) & ((row['Year'] == 2010) | (row['Year'] == 2011))) \n",
    "    else row['Revision Flag'], axis=1)\n",
    "\n",
    "FM_hip_data['Revision Flag'] = FM_hip_data.apply(\n",
    "    lambda row: 0 if ((np.isnan(row['Revision Flag'])) & ((row['Year'] == 2010) | (row['Year'] == 2011))) \n",
    "    else row['Revision Flag'], axis=1)\n",
    "\n",
    "FM_groin_data['Revision Flag'] = FM_groin_data.apply(\n",
    "    lambda row: 0 if ((np.isnan(row['Revision Flag'])) & ((row['Year'] == 2010) | (row['Year'] == 2011))) \n",
    "    else row['Revision Flag'], axis=1)"
   ]
  },
  {
   "cell_type": "code",
   "execution_count": 76,
   "metadata": {},
   "outputs": [],
   "source": [
    "# Remove revision surgeries from datasets (temporary solution!) \n",
    "FM_knee_data = FM_knee_data.loc[FM_knee_data['Revision Flag'] == 0, :]\n",
    "FM_hip_data = FM_hip_data.loc[FM_hip_data['Revision Flag'] == 0, :]\n",
    "FM_groin_data = FM_groin_data.loc[FM_groin_data['Revision Flag'] == 0, :]"
   ]
  },
  {
   "cell_type": "code",
   "execution_count": 77,
   "metadata": {},
   "outputs": [],
   "source": [
    "# Remove health profiles 11111 and 33333 (cannot deteroriate or improve)\n",
    "FM_knee_data = FM_knee_data.loc[(FM_knee_data['Pre-Op Q EQ5D Index Profile']\n",
    "                                != 11111) & (FM_knee_data['Pre-Op Q EQ5D Index Profile'] \n",
    "                                != 33333)]\n",
    "FM_hip_data = FM_hip_data.loc[(FM_hip_data['Pre-Op Q EQ5D Index Profile']\n",
    "                                != 11111) & (FM_hip_data['Pre-Op Q EQ5D Index Profile'] \n",
    "                                != 33333)]\n",
    "FM_groin_data = FM_groin_data.loc[(FM_groin_data['Pre-Op Q EQ5D Index Profile']\n",
    "                                != 11111) & (FM_groin_data['Pre-Op Q EQ5D Index Profile'] \n",
    "                                != 33333)]"
   ]
  },
  {
   "cell_type": "markdown",
   "metadata": {},
   "source": [
    "###### Reduced Model Data\n",
    "Limit features (pre-op characteristics) to age, gender, baseline score and symptom duration. "
   ]
  },
  {
   "cell_type": "code",
   "execution_count": 84,
   "metadata": {},
   "outputs": [],
   "source": [
    "# Reduced Model (RM) knee data \n",
    "RM_knee_data = FM_knee_data[['Age Band', 'Gender', 'Pre-Op Q EQ5D Index',\n",
    "                            'Pre-Op Q Symptom Period', 'Post-Op Q EQ5D Index']]"
   ]
  },
  {
   "cell_type": "code",
   "execution_count": 85,
   "metadata": {},
   "outputs": [],
   "source": [
    "# Reduced Model (RM) hip data \n",
    "RM_hip_data = FM_hip_data[['Age Band', 'Gender', 'Pre-Op Q EQ5D Index',\n",
    "                            'Pre-Op Q Symptom Period', 'Post-Op Q EQ5D Index']]"
   ]
  },
  {
   "cell_type": "code",
   "execution_count": 86,
   "metadata": {},
   "outputs": [],
   "source": [
    "# Reduced Model (RM) groin data \n",
    "RM_groin_data = FM_groin_data[['Age Band', 'Gender', 'Pre-Op Q EQ5D Index',\n",
    "                            'Pre-Op Q Symptom Period', 'Post-Op Q EQ5D Index']]"
   ]
  },
  {
   "cell_type": "code",
   "execution_count": 98,
   "metadata": {},
   "outputs": [
    {
     "name": "stdout",
     "output_type": "stream",
     "text": [
      "(391023, 5)\n",
      "165847\n",
      "Age Band                        0\n",
      "Gender                          0\n",
      "Pre-Op Q EQ5D Index         22676\n",
      "Pre-Op Q Symptom Period    122406\n",
      "Post-Op Q EQ5D Index        20765\n",
      "dtype: int64\n",
      "(362715, 5)\n",
      "153933\n",
      "Age Band                        0\n",
      "Gender                          0\n",
      "Pre-Op Q EQ5D Index         20224\n",
      "Pre-Op Q Symptom Period    115237\n",
      "Post-Op Q EQ5D Index        18472\n",
      "dtype: int64\n",
      "(140680, 5)\n",
      "61582\n",
      "Age Band                       0\n",
      "Gender                         0\n",
      "Pre-Op Q EQ5D Index         5069\n",
      "Pre-Op Q Symptom Period    49728\n",
      "Post-Op Q EQ5D Index        6785\n",
      "dtype: int64\n"
     ]
    }
   ],
   "source": [
    "# Get NA counts. Why so many missing values? \n",
    "for dataset in [RM_knee_data, RM_hip_data, RM_groin_data]:\n",
    "    print(dataset.shape)\n",
    "    print(np.count_nonzero(dataset.isnull().values))\n",
    "    print(dataset.isna().sum())"
   ]
  },
  {
   "cell_type": "code",
   "execution_count": 100,
   "metadata": {},
   "outputs": [],
   "source": [
    "# Remove NAs    \n",
    "RM_knee_data = RM_knee_data.dropna()\n",
    "RM_hip_data = RM_hip_data.dropna() \n",
    "RM_groin_data = RM_groin_data.dropna() "
   ]
  },
  {
   "cell_type": "code",
   "execution_count": 101,
   "metadata": {},
   "outputs": [
    {
     "name": "stdout",
     "output_type": "stream",
     "text": [
      "(242485, 5)\n",
      "(224228, 5)\n",
      "(83607, 5)\n"
     ]
    }
   ],
   "source": [
    "for dataset in [RM_knee_data, RM_hip_data, RM_groin_data]:\n",
    "    print(dataset.shape)"
   ]
  },
  {
   "cell_type": "markdown",
   "metadata": {},
   "source": [
    "###### Full Model Data (Original) \n",
    "This limits the features to all pre-operative charateristics described in the dataset, as in the original paper. These vary between each dataset. Basically we just remove the comorbidities."
   ]
  },
  {
   "cell_type": "code",
   "execution_count": 102,
   "metadata": {},
   "outputs": [],
   "source": [
    "FMO_knee_data = FM_knee_data.drop(['Post-Op Q EQ5D Index Profile', 'Revision Flag',\n",
    "                                   'Arthritis', 'Cancer', 'Circulation', 'Depression',\n",
    "                                   'Diabetes', 'Heart Disease', 'High Bp', 'Kidney Disease',\n",
    "                                   'Liver Disease', 'Lung Disease', 'Nervous System', 'Stroke']\n",
    "                                  , axis=1)"
   ]
  },
  {
   "cell_type": "code",
   "execution_count": 103,
   "metadata": {},
   "outputs": [],
   "source": [
    "FMO_hip_data = FM_hip_data.drop(['Post-Op Q EQ5D Index Profile', 'Revision Flag',\n",
    "                                   'Arthritis', 'Cancer', 'Circulation', 'Depression',\n",
    "                                   'Diabetes', 'Heart Disease', 'High Bp', 'Kidney Disease',\n",
    "                                   'Liver Disease', 'Lung Disease', 'Nervous System', 'Stroke']\n",
    "                                  , axis=1)"
   ]
  },
  {
   "cell_type": "code",
   "execution_count": 104,
   "metadata": {},
   "outputs": [],
   "source": [
    "FMO_groin_data = FM_groin_data.drop(['Post-Op Q EQ5D Index Profile', 'Revision Flag',\n",
    "                                   'Arthritis', 'Cancer', 'Circulation', 'Depression',\n",
    "                                   'Diabetes', 'Heart Disease', 'High Bp', 'Kidney Disease',\n",
    "                                   'Liver Disease', 'Lung Disease', 'Nervous System', 'Stroke']\n",
    "                                  , axis=1)"
   ]
  },
  {
   "cell_type": "code",
   "execution_count": 106,
   "metadata": {},
   "outputs": [
    {
     "name": "stdout",
     "output_type": "stream",
     "text": [
      "(391023, 31)\n",
      "555748\n",
      "Age Band                                      0\n",
      "Gender                                        0\n",
      "Pre-Op Q Symptom Period                  122406\n",
      "Knee Replacement Post-Op Q Score           7689\n",
      "Knee Replacement Pre-Op Q Score            4259\n",
      "Post-Op Q EQ5D Index                      20765\n",
      "Pre-Op Q EQ5D Index                       22676\n",
      "Pre-Op Q EQ5D Index Profile                 786\n",
      "Knee Replacement Pre-Op Q Confidence          0\n",
      "Knee Replacement Pre-Op Q Kneeling            0\n",
      "Knee Replacement Pre-Op Q Limping             0\n",
      "Knee Replacement Pre-Op Q Night Pain          0\n",
      "Knee Replacement Pre-Op Q Pain                0\n",
      "Knee Replacement Pre-Op Q Shopping            0\n",
      "Knee Replacement Pre-Op Q Stairs              0\n",
      "Knee Replacement Pre-Op Q Standing            0\n",
      "Knee Replacement Pre-Op Q Transport           0\n",
      "Knee Replacement Pre-Op Q Walking             0\n",
      "Knee Replacement Pre-Op Q Washing             0\n",
      "Knee Replacement Pre-Op Q Work                0\n",
      "Pre-Op Q Activity                             0\n",
      "Pre-Op Q Anxiety                              0\n",
      "Pre-Op Q Discomfort                           0\n",
      "Pre-Op Q Mobility                             0\n",
      "Pre-Op Q Self-Care                            0\n",
      "Provider Code                                 0\n",
      "Knee Replacement - Participation Rate     94070\n",
      "Knee Replacement - Linkage Rate           94347\n",
      "Knee Replacement - Issue Rate             94347\n",
      "Knee Replacement - Response Rate          94403\n",
      "Year                                          0\n",
      "dtype: int64\n",
      "(362715, 31)\n",
      "508815\n",
      "Age Band                                     0\n",
      "Gender                                       0\n",
      "Hip Replacement Post-Op Q Score           4906\n",
      "Hip Replacement Pre-Op Q Dressing            0\n",
      "Hip Replacement Pre-Op Q Limping             0\n",
      "Hip Replacement Pre-Op Q Night Pain          0\n",
      "Hip Replacement Pre-Op Q Pain                0\n",
      "Hip Replacement Pre-Op Q Score            3683\n",
      "Hip Replacement Pre-Op Q Shopping            0\n",
      "Hip Replacement Pre-Op Q Stairs              0\n",
      "Hip Replacement Pre-Op Q Standing            0\n",
      "Hip Replacement Pre-Op Q Sudden Pain         0\n",
      "Hip Replacement Pre-Op Q Transport           0\n",
      "Hip Replacement Pre-Op Q Walking             0\n",
      "Hip Replacement Pre-Op Q Washing             0\n",
      "Hip Replacement Pre-Op Q Work                0\n",
      "Post-Op Q EQ5D Index                     18472\n",
      "Pre-Op Q Activity                            0\n",
      "Pre-Op Q Anxiety                             0\n",
      "Pre-Op Q Discomfort                          0\n",
      "Pre-Op Q Mobility                            0\n",
      "Pre-Op Q Self-Care                           0\n",
      "Pre-Op Q EQ5D Index                      20224\n",
      "Pre-Op Q EQ5D Index Profile                839\n",
      "Pre-Op Q Symptom Period                 115237\n",
      "Provider Code                                0\n",
      "Hip Replacement - Participation Rate     86203\n",
      "Hip Replacement - Linkage Rate           86417\n",
      "Hip Replacement - Issue Rate             86417\n",
      "Hip Replacement - Response Rate          86417\n",
      "Year                                         0\n",
      "dtype: int64\n",
      "(140680, 20)\n",
      "332141\n",
      "Age Band                                 0\n",
      "Gender                                   0\n",
      "Post-Op Q EQ5D Index                  6785\n",
      "Pre-Op Q Activity                        0\n",
      "Pre-Op Q Anxiety                         0\n",
      "Pre-Op Q Discomfort                      0\n",
      "Pre-Op Q Disability                  49728\n",
      "Pre-Op Q EQ5D Index                   5069\n",
      "Pre-Op Q EQ5D Index Profile            118\n",
      "Pre-Op Q Mobility                        0\n",
      "Pre-Op Q Self-Care                       0\n",
      "Pre-Op Q Symptom Period              49728\n",
      "Pre-Op Q Assisted                    49728\n",
      "Pre-Op Q Assisted By                 49728\n",
      "Provider Code                            0\n",
      "Groin Hernia - Participation Rate    30150\n",
      "Groin Hernia - Linkage Rate          30369\n",
      "Groin Hernia - Issue Rate            30369\n",
      "Groin Hernia - Response Rate         30369\n",
      "Year                                     0\n",
      "dtype: int64\n"
     ]
    }
   ],
   "source": [
    "for dataset in [FMO_knee_data, FMO_hip_data, FMO_groin_data]:\n",
    "    print(dataset.shape)\n",
    "    print(np.count_nonzero(dataset.isnull().values))\n",
    "    print(dataset.isna().sum())"
   ]
  },
  {
   "cell_type": "code",
   "execution_count": 107,
   "metadata": {},
   "outputs": [],
   "source": [
    "FMO_knee_data = FMO_knee_data.dropna()\n",
    "FMO_hip_data = FMO_hip_data.dropna()\n",
    "FMO_groin_data = FMO_groin_data.dropna()"
   ]
  },
  {
   "cell_type": "code",
   "execution_count": 108,
   "metadata": {},
   "outputs": [
    {
     "name": "stdout",
     "output_type": "stream",
     "text": [
      "(158831, 31)\n",
      "(148142, 31)\n",
      "(57083, 20)\n"
     ]
    }
   ],
   "source": [
    "for dataset in [FMO_knee_data, FMO_hip_data, FMO_groin_data]:\n",
    "    print(dataset.shape)"
   ]
  },
  {
   "cell_type": "markdown",
   "metadata": {},
   "source": [
    "###### Full Model Data (Adapted)\n",
    "These datasets use more features at the cost of less observations. In particular, over the original feature set, we also include the various comorbidities. These include Arthritis, Cancer, Circulation, Depression, Diabetes, Heart Disease, High Bp, Kidney Disease,\tLiver Disease, Lung Disease, Nervous System, and Stroke. "
   ]
  },
  {
   "cell_type": "code",
   "execution_count": 110,
   "metadata": {},
   "outputs": [],
   "source": [
    "FMA_knee_data = FM_knee_data.drop(['Post-Op Q EQ5D Index Profile', 'Revision Flag']\n",
    "                                  , axis=1)"
   ]
  },
  {
   "cell_type": "code",
   "execution_count": 111,
   "metadata": {},
   "outputs": [],
   "source": [
    "FMA_hip_data = FM_hip_data.drop(['Post-Op Q EQ5D Index Profile', 'Revision Flag']\n",
    "                                , axis=1)"
   ]
  },
  {
   "cell_type": "code",
   "execution_count": 112,
   "metadata": {},
   "outputs": [],
   "source": [
    "FMA_groin_data = FM_groin_data.drop(['Post-Op Q EQ5D Index Profile', 'Revision Flag']\n",
    "                                    , axis=1)"
   ]
  },
  {
   "cell_type": "code",
   "execution_count": 113,
   "metadata": {
    "scrolled": false
   },
   "outputs": [
    {
     "name": "stdout",
     "output_type": "stream",
     "text": [
      "(391023, 43)\n",
      "2024620\n",
      "Age Band                                      0\n",
      "Gender                                        0\n",
      "Arthritis                                122406\n",
      "Cancer                                   122406\n",
      "Circulation                              122406\n",
      "Depression                               122406\n",
      "Diabetes                                 122406\n",
      "Heart Disease                            122406\n",
      "High Bp                                  122406\n",
      "Kidney Disease                           122406\n",
      "Liver Disease                            122406\n",
      "Lung Disease                             122406\n",
      "Nervous System                           122406\n",
      "Stroke                                   122406\n",
      "Pre-Op Q Symptom Period                  122406\n",
      "Knee Replacement Post-Op Q Score           7689\n",
      "Knee Replacement Pre-Op Q Score            4259\n",
      "Post-Op Q EQ5D Index                      20765\n",
      "Pre-Op Q EQ5D Index                       22676\n",
      "Pre-Op Q EQ5D Index Profile                 786\n",
      "Knee Replacement Pre-Op Q Confidence          0\n",
      "Knee Replacement Pre-Op Q Kneeling            0\n",
      "Knee Replacement Pre-Op Q Limping             0\n",
      "Knee Replacement Pre-Op Q Night Pain          0\n",
      "Knee Replacement Pre-Op Q Pain                0\n",
      "Knee Replacement Pre-Op Q Shopping            0\n",
      "Knee Replacement Pre-Op Q Stairs              0\n",
      "Knee Replacement Pre-Op Q Standing            0\n",
      "Knee Replacement Pre-Op Q Transport           0\n",
      "Knee Replacement Pre-Op Q Walking             0\n",
      "Knee Replacement Pre-Op Q Washing             0\n",
      "Knee Replacement Pre-Op Q Work                0\n",
      "Pre-Op Q Activity                             0\n",
      "Pre-Op Q Anxiety                              0\n",
      "Pre-Op Q Discomfort                           0\n",
      "Pre-Op Q Mobility                             0\n",
      "Pre-Op Q Self-Care                            0\n",
      "Provider Code                                 0\n",
      "Knee Replacement - Participation Rate     94070\n",
      "Knee Replacement - Linkage Rate           94347\n",
      "Knee Replacement - Issue Rate             94347\n",
      "Knee Replacement - Response Rate          94403\n",
      "Year                                          0\n",
      "dtype: int64\n",
      "(362715, 43)\n",
      "1891659\n",
      "Age Band                                     0\n",
      "Gender                                       0\n",
      "Arthritis                               115237\n",
      "Cancer                                  115237\n",
      "Circulation                             115237\n",
      "Depression                              115237\n",
      "Diabetes                                115237\n",
      "Heart Disease                           115237\n",
      "High Bp                                 115237\n",
      "Kidney Disease                          115237\n",
      "Liver Disease                           115237\n",
      "Lung Disease                            115237\n",
      "Nervous System                          115237\n",
      "Stroke                                  115237\n",
      "Hip Replacement Post-Op Q Score           4906\n",
      "Hip Replacement Pre-Op Q Dressing            0\n",
      "Hip Replacement Pre-Op Q Limping             0\n",
      "Hip Replacement Pre-Op Q Night Pain          0\n",
      "Hip Replacement Pre-Op Q Pain                0\n",
      "Hip Replacement Pre-Op Q Score            3683\n",
      "Hip Replacement Pre-Op Q Shopping            0\n",
      "Hip Replacement Pre-Op Q Stairs              0\n",
      "Hip Replacement Pre-Op Q Standing            0\n",
      "Hip Replacement Pre-Op Q Sudden Pain         0\n",
      "Hip Replacement Pre-Op Q Transport           0\n",
      "Hip Replacement Pre-Op Q Walking             0\n",
      "Hip Replacement Pre-Op Q Washing             0\n",
      "Hip Replacement Pre-Op Q Work                0\n",
      "Post-Op Q EQ5D Index                     18472\n",
      "Pre-Op Q Activity                            0\n",
      "Pre-Op Q Anxiety                             0\n",
      "Pre-Op Q Discomfort                          0\n",
      "Pre-Op Q Mobility                            0\n",
      "Pre-Op Q Self-Care                           0\n",
      "Pre-Op Q EQ5D Index                      20224\n",
      "Pre-Op Q EQ5D Index Profile                839\n",
      "Pre-Op Q Symptom Period                 115237\n",
      "Provider Code                                0\n",
      "Hip Replacement - Participation Rate     86203\n",
      "Hip Replacement - Linkage Rate           86417\n",
      "Hip Replacement - Issue Rate             86417\n",
      "Hip Replacement - Response Rate          86417\n",
      "Year                                         0\n",
      "dtype: int64\n",
      "(140680, 32)\n",
      "928877\n",
      "Age Band                                 0\n",
      "Gender                                   0\n",
      "Arthritis                            49728\n",
      "Cancer                               49728\n",
      "Circulation                          49728\n",
      "Depression                           49728\n",
      "Diabetes                             49728\n",
      "Heart Disease                        49728\n",
      "High Bp                              49728\n",
      "Kidney Disease                       49728\n",
      "Liver Disease                        49728\n",
      "Lung Disease                         49728\n",
      "Nervous System                       49728\n",
      "Stroke                               49728\n",
      "Post-Op Q EQ5D Index                  6785\n",
      "Pre-Op Q Activity                        0\n",
      "Pre-Op Q Anxiety                         0\n",
      "Pre-Op Q Discomfort                      0\n",
      "Pre-Op Q Disability                  49728\n",
      "Pre-Op Q EQ5D Index                   5069\n",
      "Pre-Op Q EQ5D Index Profile            118\n",
      "Pre-Op Q Mobility                        0\n",
      "Pre-Op Q Self-Care                       0\n",
      "Pre-Op Q Symptom Period              49728\n",
      "Pre-Op Q Assisted                    49728\n",
      "Pre-Op Q Assisted By                 49728\n",
      "Provider Code                            0\n",
      "Groin Hernia - Participation Rate    30150\n",
      "Groin Hernia - Linkage Rate          30369\n",
      "Groin Hernia - Issue Rate            30369\n",
      "Groin Hernia - Response Rate         30369\n",
      "Year                                     0\n",
      "dtype: int64\n"
     ]
    }
   ],
   "source": [
    "for dataset in [FMA_knee_data, FMA_hip_data, FMA_groin_data]:\n",
    "    print(dataset.shape)\n",
    "    print(np.count_nonzero(dataset.isnull().values))\n",
    "    print(dataset.isna().sum())"
   ]
  },
  {
   "cell_type": "code",
   "execution_count": 114,
   "metadata": {},
   "outputs": [],
   "source": [
    "# Drop NAs \n",
    "FMA_knee_data = FMA_knee_data.dropna()\n",
    "FMA_hip_data = FMA_hip_data.dropna()\n",
    "FMA_groin_data = FMA_groin_data.dropna()"
   ]
  },
  {
   "cell_type": "code",
   "execution_count": 115,
   "metadata": {},
   "outputs": [
    {
     "name": "stdout",
     "output_type": "stream",
     "text": [
      "(158831, 43)\n",
      "(148142, 43)\n",
      "(57083, 32)\n"
     ]
    }
   ],
   "source": [
    "for dataset in [FMA_knee_data, FMA_hip_data, FMA_groin_data]:\n",
    "    print(dataset.shape)"
   ]
  },
  {
   "cell_type": "code",
   "execution_count": 116,
   "metadata": {},
   "outputs": [
    {
     "name": "stdout",
     "output_type": "stream",
     "text": [
      "(242485, 5)\n",
      "(224228, 5)\n",
      "(83607, 5)\n",
      "(158831, 31)\n",
      "(148142, 31)\n",
      "(57083, 20)\n",
      "(158831, 43)\n",
      "(148142, 43)\n",
      "(57083, 32)\n"
     ]
    }
   ],
   "source": [
    "# Compare lengths of all datasets \n",
    "for dataset in [RM_knee_data, RM_hip_data, RM_groin_data]:\n",
    "    print(dataset.shape)\n",
    "    \n",
    "for dataset in [FMO_knee_data, FMO_hip_data, FMO_groin_data]:\n",
    "    print(dataset.shape)\n",
    "    \n",
    "for dataset in [FMA_knee_data, FMA_hip_data, FMA_groin_data]:\n",
    "    print(dataset.shape)"
   ]
  },
  {
   "cell_type": "markdown",
   "metadata": {},
   "source": [
    "###### Correct Encoding\n",
    "Utilising the PROMs data dictionary, this section focuses on understanding the encoding of the various variables. Despite their numerical format, several of the variables are indeed categorical. I.e. a 9 does not represent a more intense disease state than a 0 or a 1, but rather incomplete data for example. Problems: \n",
    "- All of the diagnosed comorbidities are encoded (1,9), where 9 represents missing data and 1 represents a yes. Why can we not distinguish between not having cancer and missing info? Can we possibly turn this into a classification problem? Generally may not be a problem.\n",
    "- For all the remaining variables, 9 indicates only missing data, and so these observations can be removed."
   ]
  },
  {
   "cell_type": "code",
   "execution_count": 117,
   "metadata": {},
   "outputs": [
    {
     "name": "stdout",
     "output_type": "stream",
     "text": [
      "[2. 3. 4. 1. 9.]\n",
      "[4. 2. 1. 3. 9.]\n",
      "[1. 2. 9.]\n"
     ]
    }
   ],
   "source": [
    "# Example:\n",
    "print(FMA_knee_data[\"Pre-Op Q Symptom Period\"].unique())\n",
    "print(FMA_hip_data[\"Pre-Op Q Symptom Period\"].unique())\n",
    "print(FMA_groin_data[\"Pre-Op Q Symptom Period\"].unique())\n",
    "# 9 appears in all the data despite not being in the data dictionary"
   ]
  },
  {
   "cell_type": "code",
   "execution_count": 119,
   "metadata": {},
   "outputs": [],
   "source": [
    "# Columns to check for the presence of 9s (NAs) and consequently remove observations\n",
    "KR9C = ['Pre-Op Q Symptom Period', 'Knee Replacement Pre-Op Q Confidence', \n",
    "       'Knee Replacement Pre-Op Q Kneeling', 'Knee Replacement Pre-Op Q Limping',\n",
    "       'Knee Replacement Pre-Op Q Night Pain', 'Knee Replacement Pre-Op Q Pain', \n",
    "       'Knee Replacement Pre-Op Q Shopping', 'Knee Replacement Pre-Op Q Stairs', \n",
    "       'Knee Replacement Pre-Op Q Standing', 'Knee Replacement Pre-Op Q Transport', \n",
    "       'Knee Replacement Pre-Op Q Walking', 'Knee Replacement Pre-Op Q Washing',\n",
    "       'Knee Replacement Pre-Op Q Work']\n",
    "\n",
    "HR9C = ['Hip Replacement Pre-Op Q Dressing', 'Hip Replacement Pre-Op Q Limping', \n",
    "        'Hip Replacement Pre-Op Q Night Pain', 'Hip Replacement Pre-Op Q Pain', \n",
    "        'Hip Replacement Pre-Op Q Shopping', 'Hip Replacement Pre-Op Q Stairs', \n",
    "        'Hip Replacement Pre-Op Q Standing', 'Hip Replacement Pre-Op Q Sudden Pain', \n",
    "        'Hip Replacement Pre-Op Q Transport', 'Hip Replacement Pre-Op Q Walking', \n",
    "        'Hip Replacement Pre-Op Q Washing', 'Hip Replacement Pre-Op Q Work',\n",
    "        'Pre-Op Q Symptom Period']\n",
    "\n",
    "GR9C = ['Pre-Op Q Symptom Period', 'Pre-Op Q Disability', \n",
    "        'Pre-Op Q Assisted', 'Pre-Op Q Assisted By'] \n",
    "\n",
    "# Possible interaction between Assisted and Assisted by (multicollinearity). "
   ]
  },
  {
   "cell_type": "code",
   "execution_count": 120,
   "metadata": {},
   "outputs": [
    {
     "name": "stdout",
     "output_type": "stream",
     "text": [
      "[2 3 1]\n",
      "[2 3 1]\n",
      "[3 2 1]\n",
      "[2 1 3]\n",
      "[2 1 3]\n",
      "[2 3 1]\n",
      "[3 2 1]\n",
      "[3 2 1]\n",
      "[2 1 3]\n",
      "[2 1 3]\n",
      "[2 1 3]\n",
      "[1 2 3]\n",
      "[2 3 1]\n",
      "[2 1 3]\n",
      "[2 1 3]\n"
     ]
    }
   ],
   "source": [
    "# None of the EQ5D dimensions have missing values, and we want to keep 9s in the\n",
    "# comorbidities, as it does not represent systematic measurement error and may still \n",
    "# be useful features. \n",
    "for dataset in [FMA_knee_data, FMA_hip_data, FMA_groin_data]: \n",
    "    for column in [\"Pre-Op Q Activity\", \"Pre-Op Q Anxiety\", \"Pre-Op Q Discomfort\",\n",
    "              \"Pre-Op Q Mobility\", \"Pre-Op Q Self-Care\"]:\n",
    "        print(dataset[column].unique())"
   ]
  },
  {
   "cell_type": "code",
   "execution_count": 121,
   "metadata": {},
   "outputs": [],
   "source": [
    "FMAK = [False if 9 in FMA_knee_data[KR9C].iloc[[i]] else \n",
    "        True for i in range(FMA_knee_data[KR9C].shape[0])]"
   ]
  },
  {
   "cell_type": "code",
   "execution_count": 122,
   "metadata": {},
   "outputs": [],
   "source": [
    "FMAH = [False if 9 in FMA_hip_data[HR9C].iloc[[i]] else \n",
    "        True for i in range(FMA_hip_data[HR9C].shape[0])]"
   ]
  },
  {
   "cell_type": "code",
   "execution_count": 123,
   "metadata": {},
   "outputs": [],
   "source": [
    "FMAG = [False if 9 in FMA_groin_data[GR9C].iloc[[i]] else \n",
    "        True for i in range(FMA_groin_data[GR9C].shape[0])]"
   ]
  },
  {
   "cell_type": "code",
   "execution_count": null,
   "metadata": {},
   "outputs": [],
   "source": [
    "FMOK = [False if 9 in FMO_knee_data[KR9C].iloc[[i]] else \n",
    "        True for i in range(FMO_knee_data[KR9C].shape[0])]"
   ]
  },
  {
   "cell_type": "code",
   "execution_count": null,
   "metadata": {},
   "outputs": [],
   "source": [
    "FMOH = [False if 9 in FMO_hip_data[KR9C].iloc[[i]] else \n",
    "        True for i in range(FMO_hip_data[KR9C].shape[0])]"
   ]
  },
  {
   "cell_type": "code",
   "execution_count": null,
   "metadata": {},
   "outputs": [],
   "source": [
    "FMOG = [False if 9 in FMO_groin_data[KR9C].iloc[[i]] else \n",
    "        True for i in range(FMO_groin_data[KR9C].shape[0])]"
   ]
  },
  {
   "cell_type": "code",
   "execution_count": null,
   "metadata": {},
   "outputs": [],
   "source": [
    "RMK = [False if 9 in RM_knee_data[KR9C].iloc[[i]] else \n",
    "        True for i in range(RM_knee_data[KR9C].shape[0])]"
   ]
  },
  {
   "cell_type": "code",
   "execution_count": null,
   "metadata": {},
   "outputs": [],
   "source": [
    "RMH = [False if 9 in RM_hip_data[KR9C].iloc[[i]] else \n",
    "        True for i in range(RM_knee_data[KR9C].shape[0])]"
   ]
  },
  {
   "cell_type": "code",
   "execution_count": null,
   "metadata": {},
   "outputs": [],
   "source": [
    "RMG = [False if 9 in RM_groin_data[KR9C].iloc[[i]] else \n",
    "        True for i in range(RM_groin_data[KR9C].shape[0])]"
   ]
  },
  {
   "cell_type": "code",
   "execution_count": null,
   "metadata": {},
   "outputs": [],
   "source": [
    "# Now delete the rows with missing encoded data in specified columns\n",
    "FMA_knee_data = FMA_knee_data.loc[FMAK]\n",
    "FMA_hip_data = FMA_hip_data.loc[FMAH]\n",
    "FMA_groin_data = FMA_groin_data.loc[FMAG]"
   ]
  },
  {
   "cell_type": "code",
   "execution_count": null,
   "metadata": {},
   "outputs": [],
   "source": [
    "FMO_knee_data = FMO_knee_data.loc[FMAK]\n",
    "FMO_hip_data = FMO_hip_data.loc[FMAH]\n",
    "FMO_groin_data = FMO_groin_data.loc[FMAG]"
   ]
  },
  {
   "cell_type": "code",
   "execution_count": null,
   "metadata": {},
   "outputs": [],
   "source": [
    "RM_knee_data = RM_knee_data.loc[RMK]\n",
    "RM_hip_data = RM_hip_data.loc[RMH]\n",
    "RM_groin_data = RM_groin_data.loc[RMG]"
   ]
  },
  {
   "cell_type": "code",
   "execution_count": null,
   "metadata": {},
   "outputs": [],
   "source": [
    "# Convert '*'s in otherwise numerical columns to numeric \n",
    "# FMA\n",
    "FMA_knee_data['Gender'] = FMA_knee_data['Gender'].convert_objects(convert_numeric=True)\n",
    "FMA_knee_data = FMA_knee_data.dropna()\n",
    "print(FMA_knee_data.shape)"
   ]
  },
  {
   "cell_type": "code",
   "execution_count": null,
   "metadata": {},
   "outputs": [],
   "source": [
    "FMA_hip_data['Gender'] = FMA_hip_data['Gender'].convert_objects(convert_numeric=True)\n",
    "FMA_hip_data = FMA_hip_data.dropna()\n",
    "print(FMA_hip_data.shape)"
   ]
  },
  {
   "cell_type": "code",
   "execution_count": null,
   "metadata": {},
   "outputs": [],
   "source": [
    "FMA_groin_data['Gender'] = FMA_groin_data['Gender'].convert_objects(convert_numeric=True)\n",
    "FMA_groin_data = FMA_groin_data.dropna()\n",
    "print(FMA_groin_data.shape)"
   ]
  },
  {
   "cell_type": "code",
   "execution_count": null,
   "metadata": {},
   "outputs": [],
   "source": [
    "# FMO\n",
    "FMO_knee_data['Gender'] = FMO_knee_data['Gender'].convert_objects(convert_numeric=True)\n",
    "FMO_knee_data = FMO_knee_data.dropna()\n",
    "print(FMO_knee_data.shape)"
   ]
  },
  {
   "cell_type": "code",
   "execution_count": null,
   "metadata": {},
   "outputs": [],
   "source": [
    "FMO_hip_data['Gender'] = FMO_hip_data['Gender'].convert_objects(convert_numeric=True)\n",
    "FMO_hip_data = FMO_hip_data.dropna()\n",
    "print(FMO_hip_data.shape)"
   ]
  },
  {
   "cell_type": "code",
   "execution_count": null,
   "metadata": {},
   "outputs": [],
   "source": [
    "FMO_groin_data['Gender'] = FMO_groin_data['Gender'].convert_objects(convert_numeric=True)\n",
    "FMO_groin_data = FMO_groin_data.dropna()\n",
    "print(FMO_groin_data.shape)"
   ]
  },
  {
   "cell_type": "code",
   "execution_count": null,
   "metadata": {},
   "outputs": [],
   "source": [
    "# RM \n",
    "RM_knee_data['Gender'] = RM_knee_data['Gender'].convert_objects(convert_numeric=True)\n",
    "RM_knee_data = RM_knee_data.dropna()\n",
    "print(RM_knee_data.shape)"
   ]
  },
  {
   "cell_type": "code",
   "execution_count": null,
   "metadata": {},
   "outputs": [],
   "source": [
    "RM_hip_data['Gender'] = RM_hip_data['Gender'].convert_objects(convert_numeric=True)\n",
    "RM_hip_data = RM_hip_data.dropna()\n",
    "print(RM_hip_data.shape)"
   ]
  },
  {
   "cell_type": "code",
   "execution_count": null,
   "metadata": {},
   "outputs": [],
   "source": [
    "RM_groin_data['Gender'] = RM_groin_data['Gender'].convert_objects(convert_numeric=True)\n",
    "RM_groin_data = RM_groin_data.dropna()\n",
    "print(RM_groin_data.shape)"
   ]
  },
  {
   "cell_type": "markdown",
   "metadata": {},
   "source": [
    "### Save Datasets\n",
    "- Save datasets for transfer to R for modelling. Use feather package."
   ]
  },
  {
   "cell_type": "code",
   "execution_count": null,
   "metadata": {},
   "outputs": [],
   "source": [
    "import feather"
   ]
  },
  {
   "cell_type": "code",
   "execution_count": null,
   "metadata": {},
   "outputs": [],
   "source": [
    "path = \"/Users/matthewkeys/Desktop/CRES/Data/SurgeryPrognostics/Cleaned/\""
   ]
  },
  {
   "cell_type": "code",
   "execution_count": null,
   "metadata": {},
   "outputs": [],
   "source": [
    "feather.write_dataframe(RM_knee_data, path+\"reduced_knee_data.feather\")\n",
    "feather.write_dataframe(RM_hip_data, path+\"reduced_hip_data.feather\")\n",
    "feather.write_dataframe(RM_groin_data, path+\"reduced_groin_data.feather\")"
   ]
  },
  {
   "cell_type": "code",
   "execution_count": null,
   "metadata": {},
   "outputs": [],
   "source": [
    "feather.write_dataframe(FMO_knee_data, path+\"large_knee_data.feather\")\n",
    "feather.write_dataframe(FMO_hip_data, path+\"large_hip_data.feather\")\n",
    "feather.write_dataframe(FMO_groin_data, path+\"large_groin_data.feather\")"
   ]
  },
  {
   "cell_type": "code",
   "execution_count": null,
   "metadata": {},
   "outputs": [],
   "source": [
    "feather.write_dataframe(FMA_knee_data, path+\"larger_knee_data.feather\")\n",
    "feather.write_dataframe(FMA_hip_data, path+\"larger_hip_data.feather\")\n",
    "feather.write_dataframe(FMA_groin_data, path+\"larger_groin_data.feather\")"
   ]
  }
 ],
 "metadata": {
  "kernelspec": {
   "display_name": "Python [default]",
   "language": "python",
   "name": "python3"
  },
  "language_info": {
   "codemirror_mode": {
    "name": "ipython",
    "version": 3
   },
   "file_extension": ".py",
   "mimetype": "text/x-python",
   "name": "python",
   "nbconvert_exporter": "python",
   "pygments_lexer": "ipython3",
   "version": "3.6.4"
  }
 },
 "nbformat": 4,
 "nbformat_minor": 2
}
