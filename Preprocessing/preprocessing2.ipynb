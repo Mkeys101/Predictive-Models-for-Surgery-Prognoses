{
 "cells": [
  {
   "cell_type": "markdown",
   "metadata": {},
   "source": [
    "# Preprocessing 2 \n",
    "\n",
    "The tasks completed here are as follows: \n",
    "- Load full datasets\n",
    "- Remove revision tags where necessary \n",
    "- Remove specific health profiles\n",
    "- Form the datasets by model size and drop rows with NaNs (more features, less observations).\n",
    "- Remove rows where relevant features have value 9s (representing manually encoded missing data) \n",
    "- Save datasets"
   ]
  },
  {
   "cell_type": "code",
   "execution_count": 1,
   "metadata": {},
   "outputs": [],
   "source": [
    "import sklearn \n",
    "import pandas as pd \n",
    "import numpy as np"
   ]
  },
  {
   "cell_type": "code",
   "execution_count": 2,
   "metadata": {},
   "outputs": [],
   "source": [
    "pd.set_option('display.max_columns', None)\n",
    "pd.set_option('display.max_rows', 2000)"
   ]
  },
  {
   "cell_type": "code",
   "execution_count": 3,
   "metadata": {},
   "outputs": [],
   "source": [
    "from pickle import dump, load\n",
    "\n",
    "def save_pickle(path, obj): \n",
    "    with open(path, \"wb\") as fp:   #Pickling\n",
    "        dump(obj, fp)\n",
    "        \n",
    "def open_pickle(path): \n",
    "    with open(path, \"rb\") as fp:   # Unpickling\n",
    "        return load(fp)"
   ]
  },
  {
   "cell_type": "code",
   "execution_count": 4,
   "metadata": {},
   "outputs": [],
   "source": [
    "# path to cleaned data \n",
    "path = \"/Users/matthewkeys/Desktop/CRES/Data/SurgeryPrognostics/Cleaned/\""
   ]
  },
  {
   "cell_type": "code",
   "execution_count": 5,
   "metadata": {},
   "outputs": [],
   "source": [
    "FM_knee_data = open_pickle(path+\"final_knee_data.txt\")\n",
    "FM_hip_data = open_pickle(path+\"final_hip_data.txt\")\n",
    "FM_groin_data = open_pickle(path+\"final_groin_data.txt\")"
   ]
  },
  {
   "cell_type": "markdown",
   "metadata": {},
   "source": [
    "### Format Data \n",
    "In this section I create the various datasets that will be used in the below models. \n",
    "- First remove observations corresponding to revision surgeries. Prior to 2012 we have a problem."
   ]
  },
  {
   "cell_type": "code",
   "execution_count": 6,
   "metadata": {
    "scrolled": true
   },
   "outputs": [
    {
     "name": "stdout",
     "output_type": "stream",
     "text": [
      "0.0    309094\n",
      "1.0     13010\n",
      "Name: Revision Flag, dtype: int64\n",
      "83242\n",
      "(405346, 45)\n",
      "0.0    284141\n",
      "1.0     18281\n",
      "Name: Revision Flag, dtype: int64\n",
      "79654\n",
      "(382076, 45)\n",
      "0.0    145544\n",
      "Name: Revision Flag, dtype: int64\n",
      "45018\n",
      "(190562, 34)\n"
     ]
    }
   ],
   "source": [
    "# Get shapes & revision surgery counts \n",
    "for dataset in [FM_knee_data, FM_hip_data, FM_groin_data]:\n",
    "    print(dataset['Revision Flag'].value_counts())\n",
    "    print(dataset['Revision Flag'].isna().sum())\n",
    "    print(dataset.shape)"
   ]
  },
  {
   "cell_type": "code",
   "execution_count": 7,
   "metadata": {},
   "outputs": [],
   "source": [
    "# Reconstruct revision surgeries for prior to 2012 (need to do...)\n",
    "\n",
    "##################################################################\n"
   ]
  },
  {
   "cell_type": "code",
   "execution_count": 8,
   "metadata": {},
   "outputs": [],
   "source": [
    "# Temporary solution: Impute all 1's in the revision flag for 2010 and 2011\n",
    "FM_knee_data['Revision Flag'] = FM_knee_data.apply(\n",
    "    lambda row: 0 if ((np.isnan(row['Revision Flag'])) & ((row['Year'] == 2010) | (row['Year'] == 2011))) \n",
    "    else row['Revision Flag'], axis=1)\n",
    "\n",
    "FM_hip_data['Revision Flag'] = FM_hip_data.apply(\n",
    "    lambda row: 0 if ((np.isnan(row['Revision Flag'])) & ((row['Year'] == 2010) | (row['Year'] == 2011))) \n",
    "    else row['Revision Flag'], axis=1)\n",
    "\n",
    "FM_groin_data['Revision Flag'] = FM_groin_data.apply(\n",
    "    lambda row: 0 if ((np.isnan(row['Revision Flag'])) & ((row['Year'] == 2010) | (row['Year'] == 2011))) \n",
    "    else row['Revision Flag'], axis=1)"
   ]
  },
  {
   "cell_type": "code",
   "execution_count": 9,
   "metadata": {},
   "outputs": [],
   "source": [
    "# Remove revision surgeries from datasets\n",
    "FM_knee_data = FM_knee_data.loc[FM_knee_data['Revision Flag'] == 0, :]\n",
    "FM_hip_data = FM_hip_data.loc[FM_hip_data['Revision Flag'] == 0, :]\n",
    "FM_groin_data = FM_groin_data.loc[FM_groin_data['Revision Flag'] == 0, :]"
   ]
  },
  {
   "cell_type": "code",
   "execution_count": 10,
   "metadata": {},
   "outputs": [],
   "source": [
    "# Remove health profiles 11111 and 33333 (cannot deteroriate or improve)\n",
    "FM_knee_data = FM_knee_data.loc[(FM_knee_data['Pre-Op Q EQ5D Index Profile']\n",
    "                                != 11111) & (FM_knee_data['Pre-Op Q EQ5D Index Profile'] \n",
    "                                != 33333)]\n",
    "FM_hip_data = FM_hip_data.loc[(FM_hip_data['Pre-Op Q EQ5D Index Profile']\n",
    "                                != 11111) & (FM_hip_data['Pre-Op Q EQ5D Index Profile'] \n",
    "                                != 33333)]\n",
    "FM_groin_data = FM_groin_data.loc[(FM_groin_data['Pre-Op Q EQ5D Index Profile']\n",
    "                                != 11111) & (FM_groin_data['Pre-Op Q EQ5D Index Profile'] \n",
    "                                != 33333)]"
   ]
  },
  {
   "cell_type": "markdown",
   "metadata": {},
   "source": [
    "###### Reduced Model Data\n",
    "Limit features (pre-op characteristics) to age, gender, baseline score and symptom duration. "
   ]
  },
  {
   "cell_type": "code",
   "execution_count": 11,
   "metadata": {},
   "outputs": [],
   "source": [
    "# Reduced Model (RM) knee data \n",
    "RM_knee_data = FM_knee_data[['Age Band', 'Gender', 'Pre-Op Q EQ5D Index',\n",
    "                            'Pre-Op Q Symptom Period', 'Post-Op Q EQ5D Index']]"
   ]
  },
  {
   "cell_type": "code",
   "execution_count": 12,
   "metadata": {},
   "outputs": [],
   "source": [
    "# Reduced Model (RM) hip data \n",
    "RM_hip_data = FM_hip_data[['Age Band', 'Gender', 'Pre-Op Q EQ5D Index',\n",
    "                            'Pre-Op Q Symptom Period', 'Post-Op Q EQ5D Index']]"
   ]
  },
  {
   "cell_type": "code",
   "execution_count": 13,
   "metadata": {},
   "outputs": [],
   "source": [
    "# Reduced Model (RM) groin data \n",
    "RM_groin_data = FM_groin_data[['Age Band', 'Gender', 'Pre-Op Q EQ5D Index',\n",
    "                            'Pre-Op Q Symptom Period', 'Post-Op Q EQ5D Index']]"
   ]
  },
  {
   "cell_type": "code",
   "execution_count": 14,
   "metadata": {},
   "outputs": [
    {
     "name": "stdout",
     "output_type": "stream",
     "text": [
      "(391023, 5)\n",
      "165847\n",
      "Age Band                        0\n",
      "Gender                          0\n",
      "Pre-Op Q EQ5D Index         22676\n",
      "Pre-Op Q Symptom Period    122406\n",
      "Post-Op Q EQ5D Index        20765\n",
      "dtype: int64\n",
      "(362715, 5)\n",
      "153933\n",
      "Age Band                        0\n",
      "Gender                          0\n",
      "Pre-Op Q EQ5D Index         20224\n",
      "Pre-Op Q Symptom Period    115237\n",
      "Post-Op Q EQ5D Index        18472\n",
      "dtype: int64\n",
      "(140680, 5)\n",
      "61582\n",
      "Age Band                       0\n",
      "Gender                         0\n",
      "Pre-Op Q EQ5D Index         5069\n",
      "Pre-Op Q Symptom Period    49728\n",
      "Post-Op Q EQ5D Index        6785\n",
      "dtype: int64\n"
     ]
    }
   ],
   "source": [
    "# Get NA counts. Why so many missing values? \n",
    "for dataset in [RM_knee_data, RM_hip_data, RM_groin_data]:\n",
    "    print(dataset.shape)\n",
    "    print(np.count_nonzero(dataset.isnull().values))\n",
    "    print(dataset.isna().sum())"
   ]
  },
  {
   "cell_type": "code",
   "execution_count": 15,
   "metadata": {},
   "outputs": [],
   "source": [
    "# Remove NAs    \n",
    "RM_knee_data = RM_knee_data.dropna()\n",
    "RM_hip_data = RM_hip_data.dropna() \n",
    "RM_groin_data = RM_groin_data.dropna() "
   ]
  },
  {
   "cell_type": "code",
   "execution_count": 16,
   "metadata": {},
   "outputs": [
    {
     "name": "stdout",
     "output_type": "stream",
     "text": [
      "(242485, 5)\n",
      "(224228, 5)\n",
      "(83607, 5)\n"
     ]
    }
   ],
   "source": [
    "for dataset in [RM_knee_data, RM_hip_data, RM_groin_data]:\n",
    "    print(dataset.shape)"
   ]
  },
  {
   "cell_type": "markdown",
   "metadata": {},
   "source": [
    "###### Full Model Data (Original) \n",
    "This limits the features to all pre-operative charateristics described in the dataset, as in the original paper. These vary between each dataset. Basically we just remove the comorbidities."
   ]
  },
  {
   "cell_type": "code",
   "execution_count": 17,
   "metadata": {},
   "outputs": [],
   "source": [
    "FMO_knee_data = FM_knee_data.drop(['Post-Op Q EQ5D Index Profile', 'Revision Flag',\n",
    "                                   'Arthritis', 'Cancer', 'Circulation', 'Depression',\n",
    "                                   'Diabetes', 'Heart Disease', 'High Bp', 'Kidney Disease',\n",
    "                                   'Liver Disease', 'Lung Disease', 'Nervous System', 'Stroke']\n",
    "                                  , axis=1)"
   ]
  },
  {
   "cell_type": "code",
   "execution_count": 18,
   "metadata": {},
   "outputs": [],
   "source": [
    "FMO_hip_data = FM_hip_data.drop(['Post-Op Q EQ5D Index Profile', 'Revision Flag',\n",
    "                                   'Arthritis', 'Cancer', 'Circulation', 'Depression',\n",
    "                                   'Diabetes', 'Heart Disease', 'High Bp', 'Kidney Disease',\n",
    "                                   'Liver Disease', 'Lung Disease', 'Nervous System', 'Stroke']\n",
    "                                  , axis=1)"
   ]
  },
  {
   "cell_type": "code",
   "execution_count": 19,
   "metadata": {},
   "outputs": [],
   "source": [
    "FMO_groin_data = FM_groin_data.drop(['Post-Op Q EQ5D Index Profile', 'Revision Flag',\n",
    "                                   'Arthritis', 'Cancer', 'Circulation', 'Depression',\n",
    "                                   'Diabetes', 'Heart Disease', 'High Bp', 'Kidney Disease',\n",
    "                                   'Liver Disease', 'Lung Disease', 'Nervous System', 'Stroke']\n",
    "                                  , axis=1)"
   ]
  },
  {
   "cell_type": "code",
   "execution_count": 20,
   "metadata": {},
   "outputs": [
    {
     "name": "stdout",
     "output_type": "stream",
     "text": [
      "(391023, 31)\n",
      "555748\n",
      "Age Band                                      0\n",
      "Gender                                        0\n",
      "Pre-Op Q Symptom Period                  122406\n",
      "Knee Replacement Post-Op Q Score           7689\n",
      "Knee Replacement Pre-Op Q Score            4259\n",
      "Post-Op Q EQ5D Index                      20765\n",
      "Pre-Op Q EQ5D Index                       22676\n",
      "Pre-Op Q EQ5D Index Profile                 786\n",
      "Knee Replacement Pre-Op Q Confidence          0\n",
      "Knee Replacement Pre-Op Q Kneeling            0\n",
      "Knee Replacement Pre-Op Q Limping             0\n",
      "Knee Replacement Pre-Op Q Night Pain          0\n",
      "Knee Replacement Pre-Op Q Pain                0\n",
      "Knee Replacement Pre-Op Q Shopping            0\n",
      "Knee Replacement Pre-Op Q Stairs              0\n",
      "Knee Replacement Pre-Op Q Standing            0\n",
      "Knee Replacement Pre-Op Q Transport           0\n",
      "Knee Replacement Pre-Op Q Walking             0\n",
      "Knee Replacement Pre-Op Q Washing             0\n",
      "Knee Replacement Pre-Op Q Work                0\n",
      "Pre-Op Q Activity                             0\n",
      "Pre-Op Q Anxiety                              0\n",
      "Pre-Op Q Discomfort                           0\n",
      "Pre-Op Q Mobility                             0\n",
      "Pre-Op Q Self-Care                            0\n",
      "Provider Code                                 0\n",
      "Knee Replacement - Participation Rate     94070\n",
      "Knee Replacement - Linkage Rate           94347\n",
      "Knee Replacement - Issue Rate             94347\n",
      "Knee Replacement - Response Rate          94403\n",
      "Year                                          0\n",
      "dtype: int64\n",
      "(362715, 31)\n",
      "508815\n",
      "Age Band                                     0\n",
      "Gender                                       0\n",
      "Hip Replacement Post-Op Q Score           4906\n",
      "Hip Replacement Pre-Op Q Dressing            0\n",
      "Hip Replacement Pre-Op Q Limping             0\n",
      "Hip Replacement Pre-Op Q Night Pain          0\n",
      "Hip Replacement Pre-Op Q Pain                0\n",
      "Hip Replacement Pre-Op Q Score            3683\n",
      "Hip Replacement Pre-Op Q Shopping            0\n",
      "Hip Replacement Pre-Op Q Stairs              0\n",
      "Hip Replacement Pre-Op Q Standing            0\n",
      "Hip Replacement Pre-Op Q Sudden Pain         0\n",
      "Hip Replacement Pre-Op Q Transport           0\n",
      "Hip Replacement Pre-Op Q Walking             0\n",
      "Hip Replacement Pre-Op Q Washing             0\n",
      "Hip Replacement Pre-Op Q Work                0\n",
      "Post-Op Q EQ5D Index                     18472\n",
      "Pre-Op Q Activity                            0\n",
      "Pre-Op Q Anxiety                             0\n",
      "Pre-Op Q Discomfort                          0\n",
      "Pre-Op Q Mobility                            0\n",
      "Pre-Op Q Self-Care                           0\n",
      "Pre-Op Q EQ5D Index                      20224\n",
      "Pre-Op Q EQ5D Index Profile                839\n",
      "Pre-Op Q Symptom Period                 115237\n",
      "Provider Code                                0\n",
      "Hip Replacement - Participation Rate     86203\n",
      "Hip Replacement - Linkage Rate           86417\n",
      "Hip Replacement - Issue Rate             86417\n",
      "Hip Replacement - Response Rate          86417\n",
      "Year                                         0\n",
      "dtype: int64\n",
      "(140680, 20)\n",
      "332141\n",
      "Age Band                                 0\n",
      "Gender                                   0\n",
      "Post-Op Q EQ5D Index                  6785\n",
      "Pre-Op Q Activity                        0\n",
      "Pre-Op Q Anxiety                         0\n",
      "Pre-Op Q Discomfort                      0\n",
      "Pre-Op Q Disability                  49728\n",
      "Pre-Op Q EQ5D Index                   5069\n",
      "Pre-Op Q EQ5D Index Profile            118\n",
      "Pre-Op Q Mobility                        0\n",
      "Pre-Op Q Self-Care                       0\n",
      "Pre-Op Q Symptom Period              49728\n",
      "Pre-Op Q Assisted                    49728\n",
      "Pre-Op Q Assisted By                 49728\n",
      "Provider Code                            0\n",
      "Groin Hernia - Participation Rate    30150\n",
      "Groin Hernia - Linkage Rate          30369\n",
      "Groin Hernia - Issue Rate            30369\n",
      "Groin Hernia - Response Rate         30369\n",
      "Year                                     0\n",
      "dtype: int64\n"
     ]
    }
   ],
   "source": [
    "for dataset in [FMO_knee_data, FMO_hip_data, FMO_groin_data]:\n",
    "    print(dataset.shape)\n",
    "    print(np.count_nonzero(dataset.isnull().values))\n",
    "    print(dataset.isna().sum())"
   ]
  },
  {
   "cell_type": "code",
   "execution_count": 21,
   "metadata": {},
   "outputs": [],
   "source": [
    "FMO_knee_data = FMO_knee_data.dropna()\n",
    "FMO_hip_data = FMO_hip_data.dropna()\n",
    "FMO_groin_data = FMO_groin_data.dropna()"
   ]
  },
  {
   "cell_type": "code",
   "execution_count": 22,
   "metadata": {},
   "outputs": [
    {
     "name": "stdout",
     "output_type": "stream",
     "text": [
      "(158831, 31)\n",
      "(148142, 31)\n",
      "(57083, 20)\n"
     ]
    }
   ],
   "source": [
    "for dataset in [FMO_knee_data, FMO_hip_data, FMO_groin_data]:\n",
    "    print(dataset.shape)"
   ]
  },
  {
   "cell_type": "markdown",
   "metadata": {},
   "source": [
    "###### Full Model Data (Adapted)\n",
    "These datasets use more features at the cost of less observations. In particular, over the original feature set, we also include the various comorbidities. These include Arthritis, Cancer, Circulation, Depression, Diabetes, Heart Disease, High Bp, Kidney Disease,\tLiver Disease, Lung Disease, Nervous System, and Stroke. "
   ]
  },
  {
   "cell_type": "code",
   "execution_count": 23,
   "metadata": {},
   "outputs": [],
   "source": [
    "FMA_knee_data = FM_knee_data.drop(['Post-Op Q EQ5D Index Profile', 'Revision Flag']\n",
    "                                  , axis=1)"
   ]
  },
  {
   "cell_type": "code",
   "execution_count": 24,
   "metadata": {},
   "outputs": [],
   "source": [
    "FMA_hip_data = FM_hip_data.drop(['Post-Op Q EQ5D Index Profile', 'Revision Flag']\n",
    "                                , axis=1)"
   ]
  },
  {
   "cell_type": "code",
   "execution_count": 25,
   "metadata": {},
   "outputs": [],
   "source": [
    "FMA_groin_data = FM_groin_data.drop(['Post-Op Q EQ5D Index Profile', 'Revision Flag']\n",
    "                                    , axis=1)"
   ]
  },
  {
   "cell_type": "code",
   "execution_count": 26,
   "metadata": {
    "scrolled": false
   },
   "outputs": [
    {
     "name": "stdout",
     "output_type": "stream",
     "text": [
      "(391023, 43)\n",
      "2024620\n",
      "Age Band                                      0\n",
      "Gender                                        0\n",
      "Arthritis                                122406\n",
      "Cancer                                   122406\n",
      "Circulation                              122406\n",
      "Depression                               122406\n",
      "Diabetes                                 122406\n",
      "Heart Disease                            122406\n",
      "High Bp                                  122406\n",
      "Kidney Disease                           122406\n",
      "Liver Disease                            122406\n",
      "Lung Disease                             122406\n",
      "Nervous System                           122406\n",
      "Stroke                                   122406\n",
      "Pre-Op Q Symptom Period                  122406\n",
      "Knee Replacement Post-Op Q Score           7689\n",
      "Knee Replacement Pre-Op Q Score            4259\n",
      "Post-Op Q EQ5D Index                      20765\n",
      "Pre-Op Q EQ5D Index                       22676\n",
      "Pre-Op Q EQ5D Index Profile                 786\n",
      "Knee Replacement Pre-Op Q Confidence          0\n",
      "Knee Replacement Pre-Op Q Kneeling            0\n",
      "Knee Replacement Pre-Op Q Limping             0\n",
      "Knee Replacement Pre-Op Q Night Pain          0\n",
      "Knee Replacement Pre-Op Q Pain                0\n",
      "Knee Replacement Pre-Op Q Shopping            0\n",
      "Knee Replacement Pre-Op Q Stairs              0\n",
      "Knee Replacement Pre-Op Q Standing            0\n",
      "Knee Replacement Pre-Op Q Transport           0\n",
      "Knee Replacement Pre-Op Q Walking             0\n",
      "Knee Replacement Pre-Op Q Washing             0\n",
      "Knee Replacement Pre-Op Q Work                0\n",
      "Pre-Op Q Activity                             0\n",
      "Pre-Op Q Anxiety                              0\n",
      "Pre-Op Q Discomfort                           0\n",
      "Pre-Op Q Mobility                             0\n",
      "Pre-Op Q Self-Care                            0\n",
      "Provider Code                                 0\n",
      "Knee Replacement - Participation Rate     94070\n",
      "Knee Replacement - Linkage Rate           94347\n",
      "Knee Replacement - Issue Rate             94347\n",
      "Knee Replacement - Response Rate          94403\n",
      "Year                                          0\n",
      "dtype: int64\n",
      "(362715, 43)\n",
      "1891659\n",
      "Age Band                                     0\n",
      "Gender                                       0\n",
      "Arthritis                               115237\n",
      "Cancer                                  115237\n",
      "Circulation                             115237\n",
      "Depression                              115237\n",
      "Diabetes                                115237\n",
      "Heart Disease                           115237\n",
      "High Bp                                 115237\n",
      "Kidney Disease                          115237\n",
      "Liver Disease                           115237\n",
      "Lung Disease                            115237\n",
      "Nervous System                          115237\n",
      "Stroke                                  115237\n",
      "Hip Replacement Post-Op Q Score           4906\n",
      "Hip Replacement Pre-Op Q Dressing            0\n",
      "Hip Replacement Pre-Op Q Limping             0\n",
      "Hip Replacement Pre-Op Q Night Pain          0\n",
      "Hip Replacement Pre-Op Q Pain                0\n",
      "Hip Replacement Pre-Op Q Score            3683\n",
      "Hip Replacement Pre-Op Q Shopping            0\n",
      "Hip Replacement Pre-Op Q Stairs              0\n",
      "Hip Replacement Pre-Op Q Standing            0\n",
      "Hip Replacement Pre-Op Q Sudden Pain         0\n",
      "Hip Replacement Pre-Op Q Transport           0\n",
      "Hip Replacement Pre-Op Q Walking             0\n",
      "Hip Replacement Pre-Op Q Washing             0\n",
      "Hip Replacement Pre-Op Q Work                0\n",
      "Post-Op Q EQ5D Index                     18472\n",
      "Pre-Op Q Activity                            0\n",
      "Pre-Op Q Anxiety                             0\n",
      "Pre-Op Q Discomfort                          0\n",
      "Pre-Op Q Mobility                            0\n",
      "Pre-Op Q Self-Care                           0\n",
      "Pre-Op Q EQ5D Index                      20224\n",
      "Pre-Op Q EQ5D Index Profile                839\n",
      "Pre-Op Q Symptom Period                 115237\n",
      "Provider Code                                0\n",
      "Hip Replacement - Participation Rate     86203\n",
      "Hip Replacement - Linkage Rate           86417\n",
      "Hip Replacement - Issue Rate             86417\n",
      "Hip Replacement - Response Rate          86417\n",
      "Year                                         0\n",
      "dtype: int64\n",
      "(140680, 32)\n",
      "928877\n",
      "Age Band                                 0\n",
      "Gender                                   0\n",
      "Arthritis                            49728\n",
      "Cancer                               49728\n",
      "Circulation                          49728\n",
      "Depression                           49728\n",
      "Diabetes                             49728\n",
      "Heart Disease                        49728\n",
      "High Bp                              49728\n",
      "Kidney Disease                       49728\n",
      "Liver Disease                        49728\n",
      "Lung Disease                         49728\n",
      "Nervous System                       49728\n",
      "Stroke                               49728\n",
      "Post-Op Q EQ5D Index                  6785\n",
      "Pre-Op Q Activity                        0\n",
      "Pre-Op Q Anxiety                         0\n",
      "Pre-Op Q Discomfort                      0\n",
      "Pre-Op Q Disability                  49728\n",
      "Pre-Op Q EQ5D Index                   5069\n",
      "Pre-Op Q EQ5D Index Profile            118\n",
      "Pre-Op Q Mobility                        0\n",
      "Pre-Op Q Self-Care                       0\n",
      "Pre-Op Q Symptom Period              49728\n",
      "Pre-Op Q Assisted                    49728\n",
      "Pre-Op Q Assisted By                 49728\n",
      "Provider Code                            0\n",
      "Groin Hernia - Participation Rate    30150\n",
      "Groin Hernia - Linkage Rate          30369\n",
      "Groin Hernia - Issue Rate            30369\n",
      "Groin Hernia - Response Rate         30369\n",
      "Year                                     0\n",
      "dtype: int64\n"
     ]
    }
   ],
   "source": [
    "for dataset in [FMA_knee_data, FMA_hip_data, FMA_groin_data]:\n",
    "    print(dataset.shape)\n",
    "    print(np.count_nonzero(dataset.isnull().values))\n",
    "    print(dataset.isna().sum())"
   ]
  },
  {
   "cell_type": "code",
   "execution_count": 27,
   "metadata": {},
   "outputs": [],
   "source": [
    "# Drop NAs \n",
    "FMA_knee_data = FMA_knee_data.dropna()\n",
    "FMA_hip_data = FMA_hip_data.dropna()\n",
    "FMA_groin_data = FMA_groin_data.dropna()"
   ]
  },
  {
   "cell_type": "code",
   "execution_count": 28,
   "metadata": {},
   "outputs": [
    {
     "name": "stdout",
     "output_type": "stream",
     "text": [
      "(158831, 43)\n",
      "(148142, 43)\n",
      "(57083, 32)\n"
     ]
    }
   ],
   "source": [
    "for dataset in [FMA_knee_data, FMA_hip_data, FMA_groin_data]:\n",
    "    print(dataset.shape)"
   ]
  },
  {
   "cell_type": "code",
   "execution_count": 29,
   "metadata": {},
   "outputs": [
    {
     "name": "stdout",
     "output_type": "stream",
     "text": [
      "(242485, 5)\n",
      "(224228, 5)\n",
      "(83607, 5)\n",
      "(158831, 31)\n",
      "(148142, 31)\n",
      "(57083, 20)\n",
      "(158831, 43)\n",
      "(148142, 43)\n",
      "(57083, 32)\n"
     ]
    }
   ],
   "source": [
    "# Compare lengths of all datasets \n",
    "for dataset in [RM_knee_data, RM_hip_data, RM_groin_data]:\n",
    "    print(dataset.shape)\n",
    "    \n",
    "for dataset in [FMO_knee_data, FMO_hip_data, FMO_groin_data]:\n",
    "    print(dataset.shape)\n",
    "    \n",
    "for dataset in [FMA_knee_data, FMA_hip_data, FMA_groin_data]:\n",
    "    print(dataset.shape)"
   ]
  },
  {
   "cell_type": "markdown",
   "metadata": {},
   "source": [
    "###### Correct Encoding\n",
    "Utilising the PROMs data dictionary, this section focuses on correcting the encoding of the categorical variables. Despite their numerical format, several of the variables are indeed categorical. I.e. a 9 does not represent a more intense disease state than a 0 or a 1, but rather incomplete data for example. Problems: \n",
    "- All of the diagnosed comorbidities are encoded (1,9), where 9 represents missing data and 1 represents a yes. Why can we not distinguish between not having cancer and missing info? Can we possibly turn this into a classification problem? Generally may not be a problem.\n",
    "- For all the remaining listed variables, 9 indicates only missing data, and so these observations can be removed."
   ]
  },
  {
   "cell_type": "code",
   "execution_count": 30,
   "metadata": {},
   "outputs": [
    {
     "name": "stdout",
     "output_type": "stream",
     "text": [
      "[2. 3. 4. 1. 9.]\n",
      "[4. 2. 1. 3. 9.]\n",
      "[1. 2. 9.]\n"
     ]
    }
   ],
   "source": [
    "# Example:\n",
    "print(FMA_knee_data[\"Pre-Op Q Symptom Period\"].unique())\n",
    "print(FMA_hip_data[\"Pre-Op Q Symptom Period\"].unique())\n",
    "print(FMA_groin_data[\"Pre-Op Q Symptom Period\"].unique())\n",
    "# 9 appears in all the data despite not being in the data dictionary"
   ]
  },
  {
   "cell_type": "code",
   "execution_count": 31,
   "metadata": {},
   "outputs": [
    {
     "name": "stdout",
     "output_type": "stream",
     "text": [
      "[2 3 1]\n",
      "[2 3 1]\n",
      "[3 2 1]\n",
      "[2 1 3]\n",
      "[2 1 3]\n",
      "[22232. 22333. 21231. 21331. 21232. 22221. 21221. 21222. 22331. 21131.\n",
      " 22222. 21121. 11221. 11121. 22233. 22231. 22332. 21333. 21332. 21321.\n",
      " 21322. 21132. 21122. 21323. 22223. 22322. 11211. 21223. 11233. 22131.\n",
      " 12231. 11222. 11231. 21112. 11212. 12221. 32333. 21233. 21211. 22321.\n",
      " 11131. 11321. 21123. 11122. 23332. 21111. 12322. 11132. 11232. 22211.\n",
      " 23221. 11112. 33332. 23331. 32231. 11322. 23231. 23333. 22323. 22121.\n",
      " 31331. 23222. 23233. 32331. 32322. 12232. 22122. 23322. 22212. 32332.\n",
      " 12211. 21212. 23321. 31233. 21213. 23122. 23232. 13221. 12222. 11223.\n",
      " 11113. 31221. 32232. 32233. 12331. 22311. 33331. 21311. 11133. 12321.\n",
      " 11123. 31121. 11331. 11311. 11323. 12121. 22132. 32323. 11332. 22312.\n",
      " 21133. 22123. 13211. 12122. 12332. 12233. 22133. 21312. 32321. 21313.\n",
      " 31321. 11333. 33322. 31222. 31131. 12132. 33231. 12112. 22111. 31231.\n",
      " 12333. 32222. 22213. 32223. 23311. 23121. 12212. 12111. 23323. 31333.\n",
      " 33232. 31323. 23131. 23123. 13232. 21113. 22112. 33321. 13121. 12133.\n",
      " 12323. 11313. 33323. 33221. 13331. 13321. 12223. 13231. 31132. 31332.\n",
      " 12131. 31232. 12311. 33233. 23211. 32221.]\n",
      "[ 0.587  1.     0.62   0.796  0.516  0.883  0.691  0.727  0.814  0.76\n",
      "  0.656  0.725  0.85   0.812  0.364  0.779  0.815  0.082  0.848  0.743\n",
      "  0.623 -0.181  0.159 -0.239 -0.594  0.024  0.189  0.689  0.03   0.088\n",
      "  0.414  0.293  0.186  0.26   0.055  0.71   0.205  0.692 -0.016  0.639\n",
      " -0.074  0.291  0.079  0.197  0.585  0.101  0.452  0.708  0.345  0.053\n",
      "  0.124  0.362  0.255  0.208  0.228 -0.184 -0.349 -0.003 -0.319  0.15\n",
      "  0.487 -0.077  0.556  0.746  0.309  0.151  0.383 -0.113  0.128  0.312\n",
      "  0.273  0.222  0.137  0.195  0.157  0.552  0.436  0.433 -0.056  0.416\n",
      "  0.264  0.744  0.485  0.329 -0.041  0.118  0.378  0.091  0.015  0.4\n",
      "  0.621 -0.331  0.675 -0.429 -0.126  0.002 -0.086  0.028 -0.484 -0.135\n",
      " -0.112 -0.028  0.258  0.147  0.173  0.193  0.367  0.066 -0.115  0.202\n",
      " -0.221  0.381 -0.055 -0.17  -0.166 -0.145 -0.066 -0.005  0.037 -0.208\n",
      "  0.342 -0.291  0.251 -0.28   0.331  0.244  0.274  0.109 -0.095  0.02\n",
      "  0.177 -0.358  0.206 -0.248  0.008  0.277 -0.426  0.271  0.32   0.213\n",
      " -0.536  0.048  0.093 -0.3    0.242  0.3    0.31  -0.008  0.219  0.073\n",
      " -0.043  0.17   0.216 -0.261 -0.108  0.313  0.241  0.095  0.119  0.099\n",
      "  0.187  0.16  -0.215  0.2    0.336]\n",
      "[2 3 1]\n",
      "[3 2 1]\n",
      "[3 2 1]\n",
      "[2 1 3]\n",
      "[2 1 3]\n",
      "[22233. 22222. 22231. 22232. 22332. 21332. 22221. 21231. 21221. 21222.\n",
      " 11211. 21321. 21232. 21121. 22331. 22321. 21211. 21331. 12221. 11222.\n",
      " 21233. 11221. 22121. 11121. 21122. 22322. 11122. 22333. 11321. 21322.\n",
      " 22323. 21223. 22211. 11132. 11322. 21131. 12111. 11232. 11131. 12121.\n",
      " 11311. 32332. 22223. 23322. 21111. 11231. 23332. 23331. 21132. 22132.\n",
      " 21311. 12232. 21333. 23232. 23222. 23333. 23221. 23233. 32333. 32231.\n",
      " 23321. 12331. 12231. 12222. 21212. 11223. 33332. 22122. 11332. 11212.\n",
      " 22131. 11123. 12211. 23231. 12133. 23223. 12223. 12131. 11331. 21112.\n",
      " 32331. 12233. 31332. 21323. 22212. 12322. 23121. 12122. 32222. 31232.\n",
      " 33331. 11233. 12332. 11112. 11323. 22311. 21123. 12321. 32321. 31333.\n",
      " 23131. 22112. 21312. 21133. 32232. 22312. 23323. 12333. 31331. 13333.\n",
      " 21213. 12112. 12132. 22111. 32322. 22133. 33321. 32323. 13232. 32221.\n",
      " 33322. 32211. 12311. 22213. 13222. 23112. 12213. 12323. 31222. 32233.\n",
      " 33222. 31321. 11133. 22123. 23311. 31231. 32121. 13121. 11113. 13322.\n",
      " 22313. 13331. 12212. 13122. 12123. 11333. 31212. 13231. 23133. 31221.]\n",
      "[ 0.082  1.     0.587  0.691  0.812  0.76   0.656  0.621  0.796  0.848\n",
      "  0.727  0.814  0.62   0.15   0.815  0.101  0.779  0.71   0.883  0.414\n",
      "  0.516  0.85   0.743  0.436  0.689  0.309  0.186  0.088  0.725  0.585\n",
      "  0.189  0.623 -0.016 -0.074  0.744  0.055 -0.239  0.3    0.26  -0.113\n",
      " -0.181  0.708  0.692  0.364  0.556  0.312 -0.17   0.639  0.216  0.159\n",
      "  0.329  0.487  0.157  0.746  0.273 -0.331 -0.291 -0.594  0.383  0.03\n",
      "  0.485 -0.184 -0.349 -0.003 -0.077  0.291  0.264  0.195  0.31   0.552\n",
      "  0.079  0.255  0.293  0.024 -0.484  0.048  0.002 -0.037  0.147  0.208\n",
      "  0.205  0.4    0.274 -0.055  0.128  0.342  0.416  0.137 -0.066  0.124\n",
      "  0.675  0.202  0.193 -0.135  0.362 -0.086 -0.319  0.251 -0.115  0.222\n",
      "  0.091  0.093 -0.04   0.32   0.378  0.331  0.228  0.015  0.277  0.258\n",
      " -0.095 -0.248  0.381 -0.126 -0.056 -0.429  0.02   0.433  0.345 -0.215\n",
      "  0.452  0.151  0.17   0.028 -0.28  -0.166 -0.005 -0.028 -0.008  0.118\n",
      "  0.187  0.053  0.131 -0.371  0.086  0.244  0.241  0.138  0.367 -0.017\n",
      "  0.066  0.296  0.213  0.197  0.206  0.037 -0.043  0.16  -0.358  0.365\n",
      " -0.208 -0.112 -0.426  0.148  0.106 -0.221  0.109 -0.157  0.173  0.073\n",
      "  0.171]\n",
      "[2 1 3]\n",
      "[1 2 3]\n",
      "[2 3 1]\n",
      "[2 1 3]\n",
      "[2 1 3]\n",
      "[22221. 21231. 11121. 21221. 11221. 11112. 11122. 22312. 21121. 12221.\n",
      " 11222. 11211. 21111. 22231. 22232. 22322. 11232. 11123. 22211. 22222.\n",
      " 22121. 22333. 21112. 21122. 21322. 21332. 11231. 11223. 21222. 21211.\n",
      " 22332. 11212. 11131. 21321. 11321. 12121. 21232. 21223. 12222. 21212.\n",
      " 22223. 22323. 11132. 21123. 21333. 11331. 12111. 11322. 21233. 12112.\n",
      " 22212. 32332. 21132. 11113. 33331. 23321. 21331. 21311. 12122. 22233.\n",
      " 22111. 22321. 22122. 12211. 22331. 21131. 23213. 11233. 23222. 11312.\n",
      " 11332. 12212. 11323. 11213. 22133. 13111. 12321. 32322. 22311. 23131.\n",
      " 31121. 21312. 22213. 23232. 22132. 12223. 11311. 12231. 12232. 32223.\n",
      " 32221. 22131. 32321. 21133. 13221. 23332. 23221. 21213. 23311. 33311.\n",
      " 11333. 23322. 11133. 13121. 12322. 23333. 21113. 33312. 21313. 31133.\n",
      " 21323. 31222. 11313. 33221. 33322. 13333. 13222. 33222. 12333. 12123.\n",
      " 12332. 12131. 13311. 23312. 13312. 23211. 32222. 23323. 33111. 13321.\n",
      " 23231. 31111. 23111. 33332. 33323. 23331. 12132. 12233. 22112. 13322.\n",
      " 23123. 31321. 12323. 31221. 12213. 31231.]\n",
      "[ 0.587  1.     0.796  0.516  0.383  0.76   0.779  0.725  0.814  0.85\n",
      "  0.883  0.727  0.656  0.848  0.691 -0.077  0.62   0.055  0.71   0.744\n",
      " -0.181  0.189  0.159 -0.016  0.03   0.193  0.743  0.433  0.812  0.689\n",
      "  0.255  0.088  0.312 -0.074  0.186  0.082  0.228  0.222  0.639  0.26\n",
      "  0.414  0.137  0.099 -0.166  0.15   0.293  0.815  0.556  0.024  0.053\n",
      " -0.113  0.416  0.291  0.273  0.362 -0.003 -0.594  0.309  0.157 -0.239\n",
      "  0.485  0.124  0.585  0.151  0.195  0.336  0.487  0.264  0.692 -0.349\n",
      "  0.746  0.364  0.378  0.101  0.675 -0.135 -0.184  0.079  0.02   0.037\n",
      " -0.066 -0.008  0.128  0.623  0.202  0.205  0.552  0.028  0.345  0.118\n",
      " -0.086  0.708  0.313  0.436  0.251  0.095 -0.005  0.208  0.147  0.381\n",
      "  0.091  0.621 -0.056  0.106 -0.043  0.213  0.274  0.244  0.216  0.329\n",
      "  0.17   0.258  0.4   -0.291  0.015 -0.163  0.271  0.331  0.187 -0.429\n",
      "  0.093 -0.319  0.002  0.265  0.3    0.296 -0.484 -0.028  0.367  0.142\n",
      "  0.073  0.197 -0.112 -0.121  0.241  0.125 -0.19   0.177  0.32   0.31 ]\n"
     ]
    }
   ],
   "source": [
    "# None of the EQ5D dimensions have missing values, and we want to keep 9s in the\n",
    "# comorbidities, as it does not represent systematic measurement error and may still \n",
    "# be useful features. \n",
    "for dataset in [FMA_knee_data, FMA_hip_data, FMA_groin_data]: \n",
    "    for column in [\"Pre-Op Q Activity\", \"Pre-Op Q Anxiety\", \"Pre-Op Q Discomfort\",\n",
    "                   \"Pre-Op Q Mobility\", \"Pre-Op Q Self-Care\", \"Pre-Op Q EQ5D Index Profile\",\n",
    "                   \"Post-Op Q EQ5D Index\"]:\n",
    "        print(dataset[column].unique())"
   ]
  },
  {
   "cell_type": "code",
   "execution_count": 32,
   "metadata": {},
   "outputs": [],
   "source": [
    "# Columns to check for the presence of 9s (NAs) and consequently remove observations\n",
    "KR9C = ['Pre-Op Q Symptom Period', 'Knee Replacement Pre-Op Q Confidence', \n",
    "       'Knee Replacement Pre-Op Q Kneeling', 'Knee Replacement Pre-Op Q Limping',\n",
    "       'Knee Replacement Pre-Op Q Night Pain', 'Knee Replacement Pre-Op Q Pain', \n",
    "       'Knee Replacement Pre-Op Q Shopping', 'Knee Replacement Pre-Op Q Stairs', \n",
    "       'Knee Replacement Pre-Op Q Standing', 'Knee Replacement Pre-Op Q Transport', \n",
    "       'Knee Replacement Pre-Op Q Walking', 'Knee Replacement Pre-Op Q Washing',\n",
    "       'Knee Replacement Pre-Op Q Work']\n",
    "\n",
    "HR9C = ['Hip Replacement Pre-Op Q Dressing', 'Hip Replacement Pre-Op Q Limping', \n",
    "        'Hip Replacement Pre-Op Q Night Pain', 'Hip Replacement Pre-Op Q Pain', \n",
    "        'Hip Replacement Pre-Op Q Shopping', 'Hip Replacement Pre-Op Q Stairs', \n",
    "        'Hip Replacement Pre-Op Q Standing', 'Hip Replacement Pre-Op Q Sudden Pain', \n",
    "        'Hip Replacement Pre-Op Q Transport', 'Hip Replacement Pre-Op Q Walking', \n",
    "        'Hip Replacement Pre-Op Q Washing', 'Hip Replacement Pre-Op Q Work',\n",
    "        'Pre-Op Q Symptom Period']\n",
    "\n",
    "GH9C = ['Pre-Op Q Symptom Period', 'Pre-Op Q Disability', \n",
    "        'Pre-Op Q Assisted', 'Pre-Op Q Assisted By'] \n",
    "\n",
    "# Possible interaction between Assisted and Assisted by (multicollinearity). "
   ]
  },
  {
   "cell_type": "code",
   "execution_count": 33,
   "metadata": {},
   "outputs": [],
   "source": [
    "# Remove observations with 9s in the appropriate columns\n",
    "FMO_knee_data = FMO_knee_data[(FMO_knee_data[KR9C] != 9).all(axis=1)]\n",
    "FMO_hip_data = FMO_hip_data[(FMO_hip_data[HR9C] != 9).all(axis=1)]\n",
    "FMO_groin_data = FMO_groin_data[(FMO_groin_data[GH9C] != 9).all(axis=1)]"
   ]
  },
  {
   "cell_type": "code",
   "execution_count": 38,
   "metadata": {},
   "outputs": [],
   "source": [
    "FMA_knee_data = FMA_knee_data[(FMA_knee_data[KR9C] != 9).all(axis=1)]\n",
    "FMA_hip_data = FMA_hip_data[(FMA_hip_data[HR9C] != 9).all(axis=1)]\n",
    "FMA_groin_data = FMA_groin_data[(FMA_groin_data[GH9C] != 9).all(axis=1)]"
   ]
  },
  {
   "cell_type": "code",
   "execution_count": 49,
   "metadata": {},
   "outputs": [],
   "source": [
    "# Adapt the columns to check \n",
    "KR9CC = KR9C[0:1]\n",
    "HR9CC = HR9C[12:13]\n",
    "GH9CC = GH9C[0:1]"
   ]
  },
  {
   "cell_type": "code",
   "execution_count": 50,
   "metadata": {},
   "outputs": [],
   "source": [
    "RM_knee_data = RM_knee_data[(RM_knee_data[KR9CC] != 9).all(axis=1)]\n",
    "RM_hip_data = RM_hip_data[(RM_hip_data[HR9CC] != 9).all(axis=1)]\n",
    "RM_groin_data = RM_groin_data[(RM_groin_data[GH9CC] != 9).all(axis=1)]"
   ]
  },
  {
   "cell_type": "code",
   "execution_count": 53,
   "metadata": {},
   "outputs": [
    {
     "name": "stderr",
     "output_type": "stream",
     "text": [
      "/Users/matthewkeys/anaconda3/lib/python3.6/site-packages/ipykernel/__main__.py:3: FutureWarning: convert_objects is deprecated.  To re-infer data dtypes for object columns, use Series.infer_objects()\n",
      "For all other conversions use the data-type specific converters pd.to_datetime, pd.to_timedelta and pd.to_numeric.\n",
      "  app.launch_new_instance()\n"
     ]
    },
    {
     "name": "stdout",
     "output_type": "stream",
     "text": [
      "(147031, 43)\n"
     ]
    }
   ],
   "source": [
    "# Convert '*'s in otherwise numerical columns to numeric \n",
    "# FMA\n",
    "FMA_knee_data['Gender'] = FMA_knee_data['Gender'].convert_objects(convert_numeric=True)\n",
    "FMA_knee_data = FMA_knee_data.dropna()\n",
    "print(FMA_knee_data.shape)"
   ]
  },
  {
   "cell_type": "code",
   "execution_count": 54,
   "metadata": {},
   "outputs": [
    {
     "name": "stderr",
     "output_type": "stream",
     "text": [
      "/Users/matthewkeys/anaconda3/lib/python3.6/site-packages/ipykernel/__main__.py:1: FutureWarning: convert_objects is deprecated.  To re-infer data dtypes for object columns, use Series.infer_objects()\n",
      "For all other conversions use the data-type specific converters pd.to_datetime, pd.to_timedelta and pd.to_numeric.\n",
      "  if __name__ == '__main__':\n"
     ]
    },
    {
     "name": "stdout",
     "output_type": "stream",
     "text": [
      "(135719, 43)\n"
     ]
    }
   ],
   "source": [
    "FMA_hip_data['Gender'] = FMA_hip_data['Gender'].convert_objects(convert_numeric=True)\n",
    "FMA_hip_data = FMA_hip_data.dropna()\n",
    "print(FMA_hip_data.shape)"
   ]
  },
  {
   "cell_type": "code",
   "execution_count": 55,
   "metadata": {},
   "outputs": [
    {
     "name": "stdout",
     "output_type": "stream",
     "text": [
      "(46023, 32)\n"
     ]
    },
    {
     "name": "stderr",
     "output_type": "stream",
     "text": [
      "/Users/matthewkeys/anaconda3/lib/python3.6/site-packages/ipykernel/__main__.py:1: FutureWarning: convert_objects is deprecated.  To re-infer data dtypes for object columns, use Series.infer_objects()\n",
      "For all other conversions use the data-type specific converters pd.to_datetime, pd.to_timedelta and pd.to_numeric.\n",
      "  if __name__ == '__main__':\n"
     ]
    }
   ],
   "source": [
    "FMA_groin_data['Gender'] = FMA_groin_data['Gender'].convert_objects(convert_numeric=True)\n",
    "FMA_groin_data = FMA_groin_data.dropna()\n",
    "print(FMA_groin_data.shape)"
   ]
  },
  {
   "cell_type": "code",
   "execution_count": 56,
   "metadata": {},
   "outputs": [
    {
     "name": "stderr",
     "output_type": "stream",
     "text": [
      "/Users/matthewkeys/anaconda3/lib/python3.6/site-packages/ipykernel/__main__.py:2: FutureWarning: convert_objects is deprecated.  To re-infer data dtypes for object columns, use Series.infer_objects()\n",
      "For all other conversions use the data-type specific converters pd.to_datetime, pd.to_timedelta and pd.to_numeric.\n",
      "  from ipykernel import kernelapp as app\n"
     ]
    },
    {
     "name": "stdout",
     "output_type": "stream",
     "text": [
      "(147031, 31)\n"
     ]
    }
   ],
   "source": [
    "# FMO\n",
    "FMO_knee_data['Gender'] = FMO_knee_data['Gender'].convert_objects(convert_numeric=True)\n",
    "FMO_knee_data = FMO_knee_data.dropna()\n",
    "print(FMO_knee_data.shape)"
   ]
  },
  {
   "cell_type": "code",
   "execution_count": 57,
   "metadata": {},
   "outputs": [
    {
     "name": "stdout",
     "output_type": "stream",
     "text": [
      "(135719, 31)\n"
     ]
    },
    {
     "name": "stderr",
     "output_type": "stream",
     "text": [
      "/Users/matthewkeys/anaconda3/lib/python3.6/site-packages/ipykernel/__main__.py:1: FutureWarning: convert_objects is deprecated.  To re-infer data dtypes for object columns, use Series.infer_objects()\n",
      "For all other conversions use the data-type specific converters pd.to_datetime, pd.to_timedelta and pd.to_numeric.\n",
      "  if __name__ == '__main__':\n"
     ]
    }
   ],
   "source": [
    "FMO_hip_data['Gender'] = FMO_hip_data['Gender'].convert_objects(convert_numeric=True)\n",
    "FMO_hip_data = FMO_hip_data.dropna()\n",
    "print(FMO_hip_data.shape)"
   ]
  },
  {
   "cell_type": "code",
   "execution_count": 58,
   "metadata": {},
   "outputs": [
    {
     "name": "stdout",
     "output_type": "stream",
     "text": [
      "(46023, 20)\n"
     ]
    },
    {
     "name": "stderr",
     "output_type": "stream",
     "text": [
      "/Users/matthewkeys/anaconda3/lib/python3.6/site-packages/ipykernel/__main__.py:1: FutureWarning: convert_objects is deprecated.  To re-infer data dtypes for object columns, use Series.infer_objects()\n",
      "For all other conversions use the data-type specific converters pd.to_datetime, pd.to_timedelta and pd.to_numeric.\n",
      "  if __name__ == '__main__':\n"
     ]
    }
   ],
   "source": [
    "FMO_groin_data['Gender'] = FMO_groin_data['Gender'].convert_objects(convert_numeric=True)\n",
    "FMO_groin_data = FMO_groin_data.dropna()\n",
    "print(FMO_groin_data.shape)"
   ]
  },
  {
   "cell_type": "code",
   "execution_count": 59,
   "metadata": {},
   "outputs": [
    {
     "name": "stdout",
     "output_type": "stream",
     "text": [
      "(226105, 5)\n"
     ]
    },
    {
     "name": "stderr",
     "output_type": "stream",
     "text": [
      "/Users/matthewkeys/anaconda3/lib/python3.6/site-packages/ipykernel/__main__.py:2: FutureWarning: convert_objects is deprecated.  To re-infer data dtypes for object columns, use Series.infer_objects()\n",
      "For all other conversions use the data-type specific converters pd.to_datetime, pd.to_timedelta and pd.to_numeric.\n",
      "  from ipykernel import kernelapp as app\n"
     ]
    }
   ],
   "source": [
    "# RM \n",
    "RM_knee_data['Gender'] = RM_knee_data['Gender'].convert_objects(convert_numeric=True)\n",
    "RM_knee_data = RM_knee_data.dropna()\n",
    "print(RM_knee_data.shape)"
   ]
  },
  {
   "cell_type": "code",
   "execution_count": 60,
   "metadata": {},
   "outputs": [
    {
     "name": "stdout",
     "output_type": "stream",
     "text": [
      "(207191, 5)\n"
     ]
    },
    {
     "name": "stderr",
     "output_type": "stream",
     "text": [
      "/Users/matthewkeys/anaconda3/lib/python3.6/site-packages/ipykernel/__main__.py:1: FutureWarning: convert_objects is deprecated.  To re-infer data dtypes for object columns, use Series.infer_objects()\n",
      "For all other conversions use the data-type specific converters pd.to_datetime, pd.to_timedelta and pd.to_numeric.\n",
      "  if __name__ == '__main__':\n"
     ]
    }
   ],
   "source": [
    "RM_hip_data['Gender'] = RM_hip_data['Gender'].convert_objects(convert_numeric=True)\n",
    "RM_hip_data = RM_hip_data.dropna()\n",
    "print(RM_hip_data.shape)"
   ]
  },
  {
   "cell_type": "code",
   "execution_count": 61,
   "metadata": {},
   "outputs": [
    {
     "name": "stdout",
     "output_type": "stream",
     "text": [
      "(70219, 5)\n"
     ]
    },
    {
     "name": "stderr",
     "output_type": "stream",
     "text": [
      "/Users/matthewkeys/anaconda3/lib/python3.6/site-packages/ipykernel/__main__.py:1: FutureWarning: convert_objects is deprecated.  To re-infer data dtypes for object columns, use Series.infer_objects()\n",
      "For all other conversions use the data-type specific converters pd.to_datetime, pd.to_timedelta and pd.to_numeric.\n",
      "  if __name__ == '__main__':\n"
     ]
    }
   ],
   "source": [
    "RM_groin_data['Gender'] = RM_groin_data['Gender'].convert_objects(convert_numeric=True)\n",
    "RM_groin_data = RM_groin_data.dropna()\n",
    "print(RM_groin_data.shape)"
   ]
  },
  {
   "cell_type": "markdown",
   "metadata": {},
   "source": [
    "### Save Datasets\n",
    "- Save datasets for transfer to R for modelling. Use feather package."
   ]
  },
  {
   "cell_type": "code",
   "execution_count": 62,
   "metadata": {},
   "outputs": [],
   "source": [
    "import feather"
   ]
  },
  {
   "cell_type": "code",
   "execution_count": 63,
   "metadata": {},
   "outputs": [],
   "source": [
    "path = \"/Users/matthewkeys/Desktop/CRES/Data/SurgeryPrognostics/Cleaned/\""
   ]
  },
  {
   "cell_type": "code",
   "execution_count": 64,
   "metadata": {},
   "outputs": [],
   "source": [
    "feather.write_dataframe(RM_knee_data, path+\"reduced_knee_data.feather\")\n",
    "feather.write_dataframe(RM_hip_data, path+\"reduced_hip_data.feather\")\n",
    "feather.write_dataframe(RM_groin_data, path+\"reduced_groin_data.feather\")"
   ]
  },
  {
   "cell_type": "code",
   "execution_count": 65,
   "metadata": {},
   "outputs": [],
   "source": [
    "feather.write_dataframe(FMO_knee_data, path+\"large_knee_data.feather\")\n",
    "feather.write_dataframe(FMO_hip_data, path+\"large_hip_data.feather\")\n",
    "feather.write_dataframe(FMO_groin_data, path+\"large_groin_data.feather\")"
   ]
  },
  {
   "cell_type": "code",
   "execution_count": 66,
   "metadata": {},
   "outputs": [],
   "source": [
    "feather.write_dataframe(FMA_knee_data, path+\"larger_knee_data.feather\")\n",
    "feather.write_dataframe(FMA_hip_data, path+\"larger_hip_data.feather\")\n",
    "feather.write_dataframe(FMA_groin_data, path+\"larger_groin_data.feather\")"
   ]
  }
 ],
 "metadata": {
  "kernelspec": {
   "display_name": "Python [default]",
   "language": "python",
   "name": "python3"
  },
  "language_info": {
   "codemirror_mode": {
    "name": "ipython",
    "version": 3
   },
   "file_extension": ".py",
   "mimetype": "text/x-python",
   "name": "python",
   "nbconvert_exporter": "python",
   "pygments_lexer": "ipython3",
   "version": "3.6.4"
  }
 },
 "nbformat": 4,
 "nbformat_minor": 2
}
